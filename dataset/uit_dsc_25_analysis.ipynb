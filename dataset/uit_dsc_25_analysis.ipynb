{
 "cells": [
  {
   "cell_type": "markdown",
   "id": "20f4e340",
   "metadata": {},
   "source": [
    "#### Set Up"
   ]
  },
  {
   "cell_type": "code",
   "execution_count": 1,
   "id": "dee86670",
   "metadata": {},
   "outputs": [],
   "source": [
    "import re\n",
    "import string\n",
    "\n",
    "import pandas as pd\n",
    "import matplotlib.pyplot as plt\n",
    "import seaborn as sns\n",
    "\n",
    "import nltk\n",
    "from nltk.tokenize import sent_tokenize"
   ]
  },
  {
   "cell_type": "code",
   "execution_count": 2,
   "id": "518efe09",
   "metadata": {},
   "outputs": [],
   "source": [
    "input_path = \"../data/uit_dsc_25/vihallu-train.csv\"\n",
    "output_path = \"../data/uit_dsc_25/vihallu-train-filtered.csv\""
   ]
  },
  {
   "cell_type": "markdown",
   "id": "b908d360",
   "metadata": {},
   "source": [
    "#### Trainning Set Filtering"
   ]
  },
  {
   "cell_type": "code",
   "execution_count": 3,
   "id": "2f7dbb60",
   "metadata": {},
   "outputs": [
    {
     "name": "stdout",
     "output_type": "stream",
     "text": [
      "Length of train: 7000\n"
     ]
    },
    {
     "data": {
      "text/html": [
       "<div>\n",
       "<style scoped>\n",
       "    .dataframe tbody tr th:only-of-type {\n",
       "        vertical-align: middle;\n",
       "    }\n",
       "\n",
       "    .dataframe tbody tr th {\n",
       "        vertical-align: top;\n",
       "    }\n",
       "\n",
       "    .dataframe thead th {\n",
       "        text-align: right;\n",
       "    }\n",
       "</style>\n",
       "<table border=\"1\" class=\"dataframe\">\n",
       "  <thead>\n",
       "    <tr style=\"text-align: right;\">\n",
       "      <th></th>\n",
       "      <th>id</th>\n",
       "      <th>context</th>\n",
       "      <th>prompt</th>\n",
       "      <th>response</th>\n",
       "      <th>label</th>\n",
       "    </tr>\n",
       "  </thead>\n",
       "  <tbody>\n",
       "    <tr>\n",
       "      <th>0</th>\n",
       "      <td>9b1ea51d-d1ff-45ba-8cf1-6a91328e8600</td>\n",
       "      <td>Vào những năm 1870, hai nhà điêu khắc Augustus...</td>\n",
       "      <td>Vào những năm 1960, nơi nào trở thành trung tâ...</td>\n",
       "      <td>Quảng trường Washington là trung tâm của thế h...</td>\n",
       "      <td>extrinsic</td>\n",
       "    </tr>\n",
       "    <tr>\n",
       "      <th>1</th>\n",
       "      <td>db7a89c6-2a6a-42af-beef-58e557ecc819</td>\n",
       "      <td>Cách mạng Tháng Mười đã biến một cuộc chiến tr...</td>\n",
       "      <td>Cách mạng Tháng Mười đã khởi xướng chủ nghĩa p...</td>\n",
       "      <td>Sai. Cách mạng Tháng Mười đã đánh bại chủ nghĩ...</td>\n",
       "      <td>no</td>\n",
       "    </tr>\n",
       "    <tr>\n",
       "      <th>2</th>\n",
       "      <td>10fca062-d343-4eca-8434-93c7a8aa5e0e</td>\n",
       "      <td>Vị trí địa lý nằm giữa phương Đông và Địa Trun...</td>\n",
       "      <td>Dựa trên việc Đế quốc Ottoman không bao giờ ki...</td>\n",
       "      <td>Nền ẩm thực của Thổ Nhĩ Kỳ được xây dựng từ gi...</td>\n",
       "      <td>extrinsic</td>\n",
       "    </tr>\n",
       "    <tr>\n",
       "      <th>3</th>\n",
       "      <td>ece8eb9e-d6bb-407a-a567-d9531861c603</td>\n",
       "      <td>Hồ Quý Ly trước có tên là Lê Quý Ly (黎季犛), biể...</td>\n",
       "      <td>Đời cháu thứ 12 của Hồ Hưng Dật sống ở đâu?</td>\n",
       "      <td>Đời cháu thứ 12 của Hồ Hưng Dật, là Hồ Liêm, s...</td>\n",
       "      <td>no</td>\n",
       "    </tr>\n",
       "    <tr>\n",
       "      <th>4</th>\n",
       "      <td>b613217f-df2a-491e-8326-25811a31eb09</td>\n",
       "      <td>Năm 2007, Bồ Đào Nha có khoảng 332.137 người n...</td>\n",
       "      <td>Từ thập niên 1990, tại sao xuất hiện một vài l...</td>\n",
       "      <td>Mặc dù Bồ Đào Nha đã đóng cửa biên giới hoàn t...</td>\n",
       "      <td>intrinsic</td>\n",
       "    </tr>\n",
       "  </tbody>\n",
       "</table>\n",
       "</div>"
      ],
      "text/plain": [
       "                                     id  \\\n",
       "0  9b1ea51d-d1ff-45ba-8cf1-6a91328e8600   \n",
       "1  db7a89c6-2a6a-42af-beef-58e557ecc819   \n",
       "2  10fca062-d343-4eca-8434-93c7a8aa5e0e   \n",
       "3  ece8eb9e-d6bb-407a-a567-d9531861c603   \n",
       "4  b613217f-df2a-491e-8326-25811a31eb09   \n",
       "\n",
       "                                             context  \\\n",
       "0  Vào những năm 1870, hai nhà điêu khắc Augustus...   \n",
       "1  Cách mạng Tháng Mười đã biến một cuộc chiến tr...   \n",
       "2  Vị trí địa lý nằm giữa phương Đông và Địa Trun...   \n",
       "3  Hồ Quý Ly trước có tên là Lê Quý Ly (黎季犛), biể...   \n",
       "4  Năm 2007, Bồ Đào Nha có khoảng 332.137 người n...   \n",
       "\n",
       "                                              prompt  \\\n",
       "0  Vào những năm 1960, nơi nào trở thành trung tâ...   \n",
       "1  Cách mạng Tháng Mười đã khởi xướng chủ nghĩa p...   \n",
       "2  Dựa trên việc Đế quốc Ottoman không bao giờ ki...   \n",
       "3        Đời cháu thứ 12 của Hồ Hưng Dật sống ở đâu?   \n",
       "4  Từ thập niên 1990, tại sao xuất hiện một vài l...   \n",
       "\n",
       "                                            response      label  \n",
       "0  Quảng trường Washington là trung tâm của thế h...  extrinsic  \n",
       "1  Sai. Cách mạng Tháng Mười đã đánh bại chủ nghĩ...         no  \n",
       "2  Nền ẩm thực của Thổ Nhĩ Kỳ được xây dựng từ gi...  extrinsic  \n",
       "3  Đời cháu thứ 12 của Hồ Hưng Dật, là Hồ Liêm, s...         no  \n",
       "4  Mặc dù Bồ Đào Nha đã đóng cửa biên giới hoàn t...  intrinsic  "
      ]
     },
     "execution_count": 3,
     "metadata": {},
     "output_type": "execute_result"
    }
   ],
   "source": [
    "train = pd.read_csv(input_path)\n",
    "print(f\"Length of train: {len(train)}\")\n",
    "train.head()"
   ]
  },
  {
   "cell_type": "code",
   "execution_count": 4,
   "id": "25925b16",
   "metadata": {},
   "outputs": [
    {
     "name": "stdout",
     "output_type": "stream",
     "text": [
      "Length of train without cutoff responses: 6734\n"
     ]
    },
    {
     "data": {
      "text/html": [
       "<div>\n",
       "<style scoped>\n",
       "    .dataframe tbody tr th:only-of-type {\n",
       "        vertical-align: middle;\n",
       "    }\n",
       "\n",
       "    .dataframe tbody tr th {\n",
       "        vertical-align: top;\n",
       "    }\n",
       "\n",
       "    .dataframe thead th {\n",
       "        text-align: right;\n",
       "    }\n",
       "</style>\n",
       "<table border=\"1\" class=\"dataframe\">\n",
       "  <thead>\n",
       "    <tr style=\"text-align: right;\">\n",
       "      <th></th>\n",
       "      <th>id</th>\n",
       "      <th>context</th>\n",
       "      <th>prompt</th>\n",
       "      <th>response</th>\n",
       "      <th>label</th>\n",
       "    </tr>\n",
       "  </thead>\n",
       "  <tbody>\n",
       "    <tr>\n",
       "      <th>1</th>\n",
       "      <td>db7a89c6-2a6a-42af-beef-58e557ecc819</td>\n",
       "      <td>Cách mạng Tháng Mười đã biến một cuộc chiến tr...</td>\n",
       "      <td>Cách mạng Tháng Mười đã khởi xướng chủ nghĩa p...</td>\n",
       "      <td>Sai. Cách mạng Tháng Mười đã đánh bại chủ nghĩ...</td>\n",
       "      <td>no</td>\n",
       "    </tr>\n",
       "    <tr>\n",
       "      <th>2</th>\n",
       "      <td>10fca062-d343-4eca-8434-93c7a8aa5e0e</td>\n",
       "      <td>Vị trí địa lý nằm giữa phương Đông và Địa Trun...</td>\n",
       "      <td>Dựa trên việc Đế quốc Ottoman không bao giờ ki...</td>\n",
       "      <td>Nền ẩm thực của Thổ Nhĩ Kỳ được xây dựng từ gi...</td>\n",
       "      <td>extrinsic</td>\n",
       "    </tr>\n",
       "    <tr>\n",
       "      <th>3</th>\n",
       "      <td>ece8eb9e-d6bb-407a-a567-d9531861c603</td>\n",
       "      <td>Hồ Quý Ly trước có tên là Lê Quý Ly (黎季犛), biể...</td>\n",
       "      <td>Đời cháu thứ 12 của Hồ Hưng Dật sống ở đâu?</td>\n",
       "      <td>Đời cháu thứ 12 của Hồ Hưng Dật, là Hồ Liêm, s...</td>\n",
       "      <td>no</td>\n",
       "    </tr>\n",
       "    <tr>\n",
       "      <th>4</th>\n",
       "      <td>b613217f-df2a-491e-8326-25811a31eb09</td>\n",
       "      <td>Năm 2007, Bồ Đào Nha có khoảng 332.137 người n...</td>\n",
       "      <td>Từ thập niên 1990, tại sao xuất hiện một vài l...</td>\n",
       "      <td>Mặc dù Bồ Đào Nha đã đóng cửa biên giới hoàn t...</td>\n",
       "      <td>intrinsic</td>\n",
       "    </tr>\n",
       "    <tr>\n",
       "      <th>5</th>\n",
       "      <td>4a3e2996-af6a-430b-a5f3-c920e84bae5b</td>\n",
       "      <td>Thủy triều cao và sự hiện hữu của một lực lượn...</td>\n",
       "      <td>Địa điểm tiến công của quân đoàn X trong Chiến...</td>\n",
       "      <td>Địa điểm tiến công của Quân đoàn X trong Chiến...</td>\n",
       "      <td>no</td>\n",
       "    </tr>\n",
       "  </tbody>\n",
       "</table>\n",
       "</div>"
      ],
      "text/plain": [
       "                                     id  \\\n",
       "1  db7a89c6-2a6a-42af-beef-58e557ecc819   \n",
       "2  10fca062-d343-4eca-8434-93c7a8aa5e0e   \n",
       "3  ece8eb9e-d6bb-407a-a567-d9531861c603   \n",
       "4  b613217f-df2a-491e-8326-25811a31eb09   \n",
       "5  4a3e2996-af6a-430b-a5f3-c920e84bae5b   \n",
       "\n",
       "                                             context  \\\n",
       "1  Cách mạng Tháng Mười đã biến một cuộc chiến tr...   \n",
       "2  Vị trí địa lý nằm giữa phương Đông và Địa Trun...   \n",
       "3  Hồ Quý Ly trước có tên là Lê Quý Ly (黎季犛), biể...   \n",
       "4  Năm 2007, Bồ Đào Nha có khoảng 332.137 người n...   \n",
       "5  Thủy triều cao và sự hiện hữu của một lực lượn...   \n",
       "\n",
       "                                              prompt  \\\n",
       "1  Cách mạng Tháng Mười đã khởi xướng chủ nghĩa p...   \n",
       "2  Dựa trên việc Đế quốc Ottoman không bao giờ ki...   \n",
       "3        Đời cháu thứ 12 của Hồ Hưng Dật sống ở đâu?   \n",
       "4  Từ thập niên 1990, tại sao xuất hiện một vài l...   \n",
       "5  Địa điểm tiến công của quân đoàn X trong Chiến...   \n",
       "\n",
       "                                            response      label  \n",
       "1  Sai. Cách mạng Tháng Mười đã đánh bại chủ nghĩ...         no  \n",
       "2  Nền ẩm thực của Thổ Nhĩ Kỳ được xây dựng từ gi...  extrinsic  \n",
       "3  Đời cháu thứ 12 của Hồ Hưng Dật, là Hồ Liêm, s...         no  \n",
       "4  Mặc dù Bồ Đào Nha đã đóng cửa biên giới hoàn t...  intrinsic  \n",
       "5  Địa điểm tiến công của Quân đoàn X trong Chiến...         no  "
      ]
     },
     "execution_count": 4,
     "metadata": {},
     "output_type": "execute_result"
    }
   ],
   "source": [
    "train = train[train[\"response\"].str.endswith(tuple(string.punctuation))]\n",
    "print(f\"Length of train without cutoff responses: {len(train)}\")\n",
    "train.head()"
   ]
  },
  {
   "cell_type": "code",
   "execution_count": 5,
   "id": "4c04bb3a",
   "metadata": {},
   "outputs": [],
   "source": [
    "train.to_csv(output_path)"
   ]
  },
  {
   "cell_type": "markdown",
   "id": "74791394",
   "metadata": {},
   "source": [
    "#### Traning Set Analysis"
   ]
  },
  {
   "cell_type": "code",
   "execution_count": 6,
   "id": "d99d1189",
   "metadata": {},
   "outputs": [
    {
     "name": "stdout",
     "output_type": "stream",
     "text": [
      "Distribution of label:\n",
      "        label  count\n",
      "0  intrinsic   2402\n",
      "1         no   2212\n",
      "2  extrinsic   2120\n"
     ]
    }
   ],
   "source": [
    "print(\"Distribution of label:\\n\", train['label'].value_counts().reset_index())"
   ]
  },
  {
   "cell_type": "code",
   "execution_count": 7,
   "id": "39063dce",
   "metadata": {},
   "outputs": [
    {
     "name": "stdout",
     "output_type": "stream",
     "text": [
      "Mean lengths of input by label:\n",
      "        label  context_len  prompt_len  response_len\n",
      "0  extrinsic   814.893868  116.950943    206.373113\n",
      "1  intrinsic   838.842215  123.011241    178.544963\n",
      "2         no   830.109855  119.559675    150.488246\n"
     ]
    }
   ],
   "source": [
    "train['prompt_len'] = train['prompt'].astype(str).apply(len)\n",
    "train['response_len'] = train['response'].astype(str).apply(len)\n",
    "train['context_len'] = train['context'].astype(str).apply(len)\n",
    "print(\"Mean lengths of input by label:\\n\", train.groupby('label')[['context_len', 'prompt_len', 'response_len']].mean().reset_index())"
   ]
  },
  {
   "cell_type": "code",
   "execution_count": 8,
   "id": "0ac03b3f",
   "metadata": {},
   "outputs": [],
   "source": [
    "def sentences_count(passage, min_len=10):\n",
    "    result = []\n",
    "    sentences = [sent.strip() for sent in sent_tokenize(passage)]\n",
    "\n",
    "    # Edge case: first sentence is a short one\n",
    "    if sentences and len(sentences[0]) < min_len and len(sentences) > 1:\n",
    "        sentences[1] = sentences[0] + ' ' + sentences[1]\n",
    "        sentences = sentences[1:]\n",
    "\n",
    "    # Concat short sentence to the previous one\n",
    "    for s in sentences:\n",
    "        if result and len(s) < min_len:\n",
    "            result[-1] = result[-1] + ' ' + s\n",
    "        else:\n",
    "            result.append(s)\n",
    "    return len(result)"
   ]
  },
  {
   "cell_type": "code",
   "execution_count": 9,
   "id": "b946ff57",
   "metadata": {},
   "outputs": [
    {
     "data": {
      "text/plain": [
       "response_sentence_count\n",
       "1    4725\n",
       "2    1919\n",
       "3      89\n",
       "4       1\n",
       "Name: count, dtype: int64"
      ]
     },
     "execution_count": 9,
     "metadata": {},
     "output_type": "execute_result"
    }
   ],
   "source": [
    "train['response_sentence_count'] = train['response'].apply(sentences_count)\n",
    "frequency_table = train['response_sentence_count'].value_counts().sort_index()\n",
    "frequency_table"
   ]
  },
  {
   "cell_type": "code",
   "execution_count": 10,
   "id": "17ecf857",
   "metadata": {},
   "outputs": [
    {
     "data": {
      "image/png": "[encoded data removed]",
      "text/plain": [
       "<Figure size 640x480 with 1 Axes>"
      ]
     },
     "metadata": {},
     "output_type": "display_data"
    }
   ],
   "source": [
    "train['context_sentence_count'] = train['context'].apply(sentences_count)\n",
    "frequency_table = train['context_sentence_count'].value_counts().sort_index()\n",
    "\n",
    "frequency_table.plot(kind='bar')\n",
    "plt.xlabel('Number of Sentences in Context')\n",
    "plt.ylabel('Frequency')\n",
    "plt.title('Distribution of Context Sentence Counts')\n",
    "plt.tight_layout()\n",
    "plt.show()"
   ]
  }
 ],
 "metadata": {
  "kernelspec": {
   "display_name": "bachelor-thesis",
   "language": "python",
   "name": "python3"
  },
  "language_info": {
   "codemirror_mode": {
    "name": "ipython",
    "version": 3
   },
   "file_extension": ".py",
   "mimetype": "text/x-python",
   "name": "python",
   "nbconvert_exporter": "python",
   "pygments_lexer": "ipython3",
   "version": "3.12.11"
  }
 },
 "nbformat": 4,
 "nbformat_minor": 5
}
