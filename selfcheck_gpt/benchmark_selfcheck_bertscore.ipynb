{
 "cells": [
  {
   "cell_type": "markdown",
   "id": "7ed6b898",
   "metadata": {},
   "source": [
    "#### Set Up"
   ]
  },
  {
   "cell_type": "code",
   "execution_count": null,
   "id": "16f5a137",
   "metadata": {},
   "outputs": [],
   "source": [
    "import json\n",
    "from tqdm import tqdm\n",
    "\n",
    "import warnings\n",
    "warnings.filterwarnings('ignore')\n",
    "\n",
    "from selfcheck_bertscore import SelfCheckBERTScore"
   ]
  },
  {
   "cell_type": "code",
   "execution_count": null,
   "id": "00d7d69e",
   "metadata": {},
   "outputs": [],
   "source": [
    "selfcheck_bertscore = SelfCheckBERTScore()"
   ]
  },
  {
   "cell_type": "markdown",
   "id": "8f482527",
   "metadata": {},
   "source": [
    "#### Dataset"
   ]
  },
  {
   "cell_type": "code",
   "execution_count": null,
   "id": "f592f5a3",
   "metadata": {},
   "outputs": [
    {
     "name": "stdout",
     "output_type": "stream",
     "text": [
      "The length of the dataset: 238\n",
      "The keys of each sample: ['gpt3_text', 'wiki_bio_text', 'gpt3_sentences', 'annotation', 'wiki_bio_test_idx', 'gpt3_text_samples']\n"
     ]
    }
   ],
   "source": [
    "with open(\"data/dataset.json\", \"r\") as f:\n",
    "    dataset = json.loads(f.read())\n",
    "\n",
    "print(f\"The length of the dataset: {len(dataset)}\")\n",
    "print(\"The keys of each sample:\", list(dataset[0].keys()))"
   ]
  },
  {
   "cell_type": "markdown",
   "id": "92db310f",
   "metadata": {},
   "source": [
    "#### Benchmark"
   ]
  },
  {
   "cell_type": "code",
   "execution_count": null,
   "id": "56a087d1",
   "metadata": {},
   "outputs": [
    {
     "name": "stderr",
     "output_type": "stream",
     "text": [
      "  0%|          | 0/5 [00:00<?, ?it/s]Some weights of RobertaModel were not initialized from the model checkpoint at roberta-large and are newly initialized: ['pooler.dense.bias', 'pooler.dense.weight']\n",
      "You should probably TRAIN this model on a down-stream task to be able to use it for predictions and inference.\n",
      "Some weights of RobertaModel were not initialized from the model checkpoint at roberta-large and are newly initialized: ['pooler.dense.bias', 'pooler.dense.weight']\n",
      "You should probably TRAIN this model on a down-stream task to be able to use it for predictions and inference.\n"
     ]
    }
   ],
   "source": [
    "scores = {}\n",
    "\n",
    "for i in tqdm(range(len(dataset[:5]))):\n",
    "    sample = dataset[i]\n",
    "    idx = sample['wiki_bio_test_idx']\n",
    "    \n",
    "    scores[idx] = selfcheck_bertscore.predict_hallucination(\n",
    "        sentences=sample['gpt3_sentences'],\n",
    "        samples=sample['gpt3_text_samples'],\n",
    "    )\n",
    "\n",
    "with open(\"data/scores_berscore.json\", \"w\") as f:\n",
    "    json.dump(scores, f)"
   ]
  }
 ],
 "metadata": {
  "kernelspec": {
   "display_name": "base-11",
   "language": "python",
   "name": "python3"
  },
  "language_info": {
   "codemirror_mode": {
    "name": "ipython",
    "version": 3
   },
   "file_extension": ".py",
   "mimetype": "text/x-python",
   "name": "python",
   "nbconvert_exporter": "python",
   "pygments_lexer": "ipython3",
   "version": "3.11.13"
  }
 },
 "nbformat": 4,
 "nbformat_minor": 5
}
