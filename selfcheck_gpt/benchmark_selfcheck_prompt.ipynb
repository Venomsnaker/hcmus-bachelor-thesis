{
 "cells": [
  {
   "cell_type": "markdown",
   "id": "cb4fc78b",
   "metadata": {},
   "source": [
    "#### Set Up"
   ]
  },
  {
   "cell_type": "code",
   "execution_count": null,
   "id": "283e5e10",
   "metadata": {},
   "outputs": [],
   "source": [
    "import os\n",
    "import json\n",
    "from tqdm import tqdm\n",
    "\n",
    "import warnings\n",
    "warnings.filterwarnings('ignore')\n",
    "\n",
    "import torch\n",
    "\n",
    "from selfcheck_prompt_api import SelfCheckPromptAPI\n",
    "from selfcheck_prompt_local import SelfCheckPromptLocal"
   ]
  },
  {
   "cell_type": "code",
   "execution_count": null,
   "id": "0c2c80ae",
   "metadata": {},
   "outputs": [],
   "source": [
    "openai_api_key = os.getenv('OPENAI_API_KEY')\n",
    "device = torch.device('cuda' if torch.cuda.is_available() else 'cpu')"
   ]
  },
  {
   "cell_type": "code",
   "execution_count": 3,
   "id": "e8f2128d",
   "metadata": {},
   "outputs": [
    {
     "data": {
      "application/vnd.jupyter.widget-view+json": {
       "model_id": "09885634363449049c84d1750d7c2cb5",
       "version_major": 2,
       "version_minor": 0
      },
      "text/plain": [
       "Loading checkpoint shards:   0%|          | 0/3 [00:00<?, ?it/s]"
      ]
     },
     "metadata": {},
     "output_type": "display_data"
    },
    {
     "name": "stderr",
     "output_type": "stream",
     "text": [
      "Some parameters are on the meta device because they were offloaded to the cpu.\n"
     ]
    }
   ],
   "source": [
    "selfcheck_prompt_api = SelfCheckPromptAPI(\n",
    "    model='gpt-4o-mini-2024-07-18',\n",
    "    api_key=openai_api_key,\n",
    "    prompt_template_path='selfcheck_prompt_template.txt'\n",
    ")\n",
    "\n",
    "selfcheck_prompt_local = SelfCheckPromptLocal(\n",
    "    model_name=\"Qwen/Qwen3-4B-Instruct-2507\",\n",
    "    prompt_template_path='selfcheck_prompt_template.txt'\n",
    ")"
   ]
  },
  {
   "cell_type": "markdown",
   "id": "c3d71fa0",
   "metadata": {},
   "source": [
    "#### Dataset"
   ]
  },
  {
   "cell_type": "code",
   "execution_count": null,
   "id": "26b0e5cc",
   "metadata": {},
   "outputs": [
    {
     "name": "stdout",
     "output_type": "stream",
     "text": [
      "The length of the dataset: 238\n"
     ]
    }
   ],
   "source": [
    "with open(\"data/dataset.json\", \"r\") as f:\n",
    "    dataset = json.loads(f.read())\n",
    "\n",
    "print(f\"The length of the dataset: {len(dataset)}\")\n",
    "print(\"The keys of each sample:\", list(dataset[0].keys()))"
   ]
  },
  {
   "cell_type": "markdown",
   "id": "d0939f66",
   "metadata": {},
   "source": [
    "#### Benchmark"
   ]
  },
  {
   "cell_type": "code",
   "execution_count": null,
   "id": "475a20a7",
   "metadata": {},
   "outputs": [
    {
     "name": "stderr",
     "output_type": "stream",
     "text": [
      "100%|██████████| 9/9 [02:20<00:00, 15.66s/it]\n",
      "100%|██████████| 1/1 [02:20<00:00, 140.97s/it]\n"
     ]
    }
   ],
   "source": [
    "scores_api = {}\n",
    "\n",
    "for i in tqdm(range(len(dataset[:1]))):\n",
    "    sample = dataset[i]\n",
    "    idx = sample['wiki_bio_test_idx']\n",
    "    \n",
    "    scores_api[idx] = selfcheck_prompt_api.predict_hallucination(\n",
    "        sentences=sample['gpt3_sentences'],\n",
    "        sample_responses=sample['gpt3_text_samples'],\n",
    "        verbose=True\n",
    "    )\n",
    "    \n",
    "with open(\"data/scores_gpt4o_mini.json\", \"w\") as f:\n",
    "    json.dump(scores_api, f)"
   ]
  },
  {
   "cell_type": "code",
   "execution_count": null,
   "id": "e0436bc0",
   "metadata": {},
   "outputs": [
    {
     "name": "stderr",
     "output_type": "stream",
     "text": [
      "100%|██████████| 9/9 [02:12<00:00, 14.74s/it]\n",
      "100%|██████████| 1/1 [02:12<00:00, 132.64s/it]\n"
     ]
    }
   ],
   "source": [
    "scores_local = {}\n",
    "\n",
    "for i in tqdm(range(len(dataset[:1]))):\n",
    "    sample = dataset[i]\n",
    "    idx = sample['wiki_bio_test_idx']\n",
    "    \n",
    "    scores_local[idx] = selfcheck_prompt_local.predict_hallucination(\n",
    "        sentences=sample['gpt3_sentences'],\n",
    "        sample_responses=sample['gpt3_text_samples'],\n",
    "        verbose=True\n",
    "    )\n",
    "    \n",
    "with open(\"data/scores_qwen3_4b_instruct.json\", \"w\") as f:\n",
    "    json.dump(scores_local, f)"
   ]
  }
 ],
 "metadata": {
  "kernelspec": {
   "display_name": "base-11",
   "language": "python",
   "name": "python3"
  },
  "language_info": {
   "codemirror_mode": {
    "name": "ipython",
    "version": 3
   },
   "file_extension": ".py",
   "mimetype": "text/x-python",
   "name": "python",
   "nbconvert_exporter": "python",
   "pygments_lexer": "ipython3",
   "version": "3.11.13"
  }
 },
 "nbformat": 4,
 "nbformat_minor": 5
}
